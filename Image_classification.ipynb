{
  "nbformat": 4,
  "nbformat_minor": 0,
  "metadata": {
    "colab": {
      "provenance": [],
      "collapsed_sections": []
    },
    "kernelspec": {
      "name": "python3",
      "display_name": "Python 3"
    },
    "language_info": {
      "name": "python"
    },
    "accelerator": "GPU"
  },
  "cells": [
    {
      "cell_type": "code",
      "execution_count": null,
      "metadata": {
        "id": "4EVImfkgcsUq"
      },
      "outputs": [],
      "source": [
        "import os\n",
        "from PIL import Image\n",
        "\n",
        "import torch\n",
        "from torch.utils.data import Dataset, DataLoader\n",
        "from torch import nn\n",
        "from torchvision import transforms"
      ]
    },
    {
      "cell_type": "code",
      "source": [
        "!unzip \"/content/img.zip\""
      ],
      "metadata": {
        "id": "Z7ly4tZ-f1aB"
      },
      "execution_count": null,
      "outputs": []
    },
    {
      "cell_type": "markdown",
      "source": [
        "# Dataset"
      ],
      "metadata": {
        "id": "2G6GsHngrq4z"
      }
    },
    {
      "cell_type": "code",
      "source": [
        "class myDataset(Dataset):\n",
        "\n",
        "    def read_data_set(self):\n",
        "\n",
        "        all_img_files = self.all_img_files\n",
        "        imgs = []\n",
        "        all_labels = []\n",
        "        for file_name in all_img_files:\n",
        "            img_path = os.path.join(self.data_set_path, file_name)\n",
        "            label = torch.tensor(int(file_name[6]))\n",
        "            imgs.append(img_path)\n",
        "            all_labels.append(label)\n",
        "\n",
        "        return imgs, all_labels, len(all_img_files)\n",
        "\n",
        "    def __init__(self, data_set_path, all_img_files, transforms=None):\n",
        "        self.data_set_path = data_set_path\n",
        "        self.all_img_files= all_img_files\n",
        "        self.image_files_path, self.labels, self.length= self.read_data_set()\n",
        "        self.transforms = transforms\n",
        "\n",
        "    def __getitem__(self, index):\n",
        "        image = Image.open(self.image_files_path[index])\n",
        "        image = image.convert(\"RGB\")\n",
        "\n",
        "        if self.transforms is not None:\n",
        "            image = self.transforms(image)\n",
        "\n",
        "        return image,  (self.labels[index])\n",
        "\n",
        "    def __len__(self):\n",
        "        return self.length"
      ],
      "metadata": {
        "id": "D1ef02NUegs_"
      },
      "execution_count": null,
      "outputs": []
    },
    {
      "cell_type": "markdown",
      "source": [
        "## Split the dataset into train and valid sets"
      ],
      "metadata": {
        "id": "vKKslyfrsYea"
      }
    },
    {
      "cell_type": "code",
      "source": [
        "import random \n",
        "\n",
        "all_img_files = os.listdir(\"/content/img\")\n",
        "random.shuffle(all_img_files)"
      ],
      "metadata": {
        "id": "vB8c85DVn9h9"
      },
      "execution_count": null,
      "outputs": []
    },
    {
      "cell_type": "code",
      "source": [
        "train_image_paths, valid_image_paths = all_img_files[:int(0.8*len(all_img_files))], all_img_files[int(0.8*len(all_img_files)):]"
      ],
      "metadata": {
        "id": "G3sCn7tfoR-2"
      },
      "execution_count": null,
      "outputs": []
    },
    {
      "cell_type": "code",
      "source": [
        "transforms_train = transforms.Compose([transforms.Resize((32, 32)),\n",
        "                                       transforms.RandomRotation(10.),\n",
        "                                       transforms.ToTensor()])\n",
        "\n"
      ],
      "metadata": {
        "id": "by1xYQBbg8Gw"
      },
      "execution_count": null,
      "outputs": []
    },
    {
      "cell_type": "code",
      "source": [
        "train_data_set = myDataset(data_set_path=\"/content/img\",all_img_files=train_image_paths,transforms=transforms_train)\n",
        "trainloader = DataLoader(train_data_set, batch_size=16, shuffle=True)\n",
        "valid_data_set = myDataset(data_set_path=\"/content/img\",all_img_files=valid_image_paths,transforms=transforms_train)\n",
        "validloader = DataLoader(valid_data_set, batch_size=16, shuffle=True)"
      ],
      "metadata": {
        "id": "BfcMMqduhC6K"
      },
      "execution_count": null,
      "outputs": []
    },
    {
      "cell_type": "markdown",
      "source": [
        "# Network "
      ],
      "metadata": {
        "id": "yy6XK1HyrvR8"
      }
    },
    {
      "cell_type": "code",
      "source": [
        "device = torch.device(\"cuda:0\" if torch.cuda.is_available() else \"cpu\")"
      ],
      "metadata": {
        "id": "nVZREGyaiG-0"
      },
      "execution_count": null,
      "outputs": []
    },
    {
      "cell_type": "code",
      "source": [
        "import torch.nn as nn\n",
        "import torch.nn.functional as F\n",
        "\n",
        "class Net(nn.Module):\n",
        "    def __init__(self):\n",
        "        super(Net, self).__init__()\n",
        "        self.conv1 = nn.Conv2d(in_channels=3, out_channels=6, kernel_size=5)\n",
        "        self.pool = nn.MaxPool2d(kernel_size=2, stride=2)\n",
        "        self.conv2 = nn.Conv2d(in_channels=6, out_channels=16, kernel_size=5)\n",
        "        self.fc1 = nn.Linear(in_features=16 * 5 * 5, out_features=120)\n",
        "        self.fc2 = nn.Linear(in_features=120, out_features=84)\n",
        "        self.fc3 = nn.Linear(in_features=84, out_features=10)\n",
        " \n",
        "\n",
        "    def forward(self, x):\n",
        "  \n",
        "        x = self.pool(F.relu(self.conv1(x)))\n",
        "\n",
        "        x = self.pool(F.relu(self.conv2(x)))\n",
        "   \n",
        "        x = x.view(-1, 16* 5 * 5) #flattening\n",
        "        x = F.relu(self.fc1(x))\n",
        "        x = F.relu(self.fc2(x))\n",
        "        x = self.fc3(x)\n",
        "        return x\n",
        "\n",
        "net = Net().to(device)\n",
        "print(net)"
      ],
      "metadata": {
        "colab": {
          "base_uri": "https://localhost:8080/"
        },
        "id": "j_9QthQrh3AP",
        "outputId": "3a7d7abe-520c-422d-adc3-655d0ccd3d76"
      },
      "execution_count": null,
      "outputs": [
        {
          "output_type": "stream",
          "name": "stdout",
          "text": [
            "Net(\n",
            "  (conv1): Conv2d(3, 6, kernel_size=(5, 5), stride=(1, 1))\n",
            "  (pool): MaxPool2d(kernel_size=2, stride=2, padding=0, dilation=1, ceil_mode=False)\n",
            "  (conv2): Conv2d(6, 16, kernel_size=(5, 5), stride=(1, 1))\n",
            "  (fc1): Linear(in_features=400, out_features=120, bias=True)\n",
            "  (fc2): Linear(in_features=120, out_features=84, bias=True)\n",
            "  (fc3): Linear(in_features=84, out_features=10, bias=True)\n",
            ")\n"
          ]
        }
      ]
    },
    {
      "cell_type": "markdown",
      "source": [
        "# Training"
      ],
      "metadata": {
        "id": "svqMntRir0C5"
      }
    },
    {
      "cell_type": "code",
      "source": [
        "import torch.optim as optim\n",
        "\n",
        "criterion = nn.CrossEntropyLoss()\n",
        "optimizer = optim.SGD(net.parameters(), lr=0.01, momentum=0.9)"
      ],
      "metadata": {
        "id": "iknLAOU5iLbN"
      },
      "execution_count": null,
      "outputs": []
    },
    {
      "cell_type": "code",
      "source": [
        "\n",
        "nb_epoch = 30\n",
        "loss_list = [] \n",
        "accuracy_list = []\n",
        "for epoch in range(nb_epoch):  \n",
        "\n",
        "    running_loss = 0.0\n",
        "    nb_data = 0.\n",
        "    for i, data in enumerate(trainloader, 0):\n",
        "\n",
        "        inputs, labels = data\n",
        "        optimizer.zero_grad()\n",
        "        inputs, labels = inputs.to(device), labels.to(device)\n",
        "\n",
        "        outputs = net(inputs)              # Forward\n",
        "        loss = criterion(outputs, labels)\n",
        "        loss.backward()                    # Backward\n",
        "        optimizer.step()                   # optimize\n",
        " \n",
        "\n",
        "        running_loss += loss.item()\n",
        "        \n",
        "        nb_data += 1.\n",
        "        \n",
        "    running_loss = running_loss / nb_data\n",
        "    loss_list.append(running_loss)  \n",
        "    \n",
        "    correct = 0.\n",
        "    total = 0.\n",
        "    with torch.no_grad():\n",
        "        for data in validloader:\n",
        "            images, labels = data\n",
        "            images, labels = images.to(device), labels.to(device)\n",
        "            outputs = net(images)\n",
        "            _, predicted = torch.max(outputs.data, 1)\n",
        "            total += labels.size(0)\n",
        "            correct += (predicted == labels).sum().item()\n",
        "    \n",
        "    accuracy_list.append(correct / total)\n",
        "    \n",
        "    print(\"Epoch \", epoch, \"; train loss = \", running_loss\n",
        "          , \"; accuracy = \", correct / total\n",
        "          ) \n",
        "    \n",
        "torch.save({\n",
        "                'nb_epoch': nb_epoch,\n",
        "                'model' : net.state_dict(),\n",
        "                'listLoss': loss_list,\n",
        "            }, \"modelNN.pth\")\n",
        "\n",
        "print('Finished Training and save the model as `modelNN.pth`')"
      ],
      "metadata": {
        "colab": {
          "base_uri": "https://localhost:8080/"
        },
        "id": "m_a_xFLmh5cQ",
        "outputId": "082048bb-acf7-4db9-e90a-b526b8f416d7"
      },
      "execution_count": null,
      "outputs": [
        {
          "output_type": "stream",
          "name": "stdout",
          "text": [
            "Epoch  0 ; train loss =  0.4107859621793032 ; accuracy =  0.8571666666666666\n",
            "Epoch  1 ; train loss =  0.2874223405936112 ; accuracy =  0.9106666666666666\n",
            "Epoch  2 ; train loss =  0.21760612073913216 ; accuracy =  0.8973333333333333\n",
            "Epoch  3 ; train loss =  0.17944213473191484 ; accuracy =  0.944\n",
            "Epoch  4 ; train loss =  0.1592645052666776 ; accuracy =  0.941\n",
            "Epoch  5 ; train loss =  0.15198885539143037 ; accuracy =  0.9495\n",
            "Epoch  6 ; train loss =  0.14614823298311483 ; accuracy =  0.9461666666666667\n",
            "Epoch  7 ; train loss =  0.13458098075787225 ; accuracy =  0.9486666666666667\n",
            "Epoch  8 ; train loss =  0.12739220826358844 ; accuracy =  0.9531666666666667\n",
            "Epoch  9 ; train loss =  0.12537185218930244 ; accuracy =  0.9596666666666667\n",
            "Epoch  10 ; train loss =  0.11889788429706823 ; accuracy =  0.9558333333333333\n",
            "Epoch  11 ; train loss =  0.1123458339382584 ; accuracy =  0.9505\n",
            "Epoch  12 ; train loss =  0.10686136612827007 ; accuracy =  0.9393333333333334\n",
            "Epoch  13 ; train loss =  0.10697790512690941 ; accuracy =  0.959\n",
            "Epoch  14 ; train loss =  0.09481899898159706 ; accuracy =  0.9555\n",
            "Epoch  15 ; train loss =  0.0965391423725911 ; accuracy =  0.9565\n",
            "Epoch  16 ; train loss =  0.09258941923667832 ; accuracy =  0.9481666666666667\n",
            "Epoch  17 ; train loss =  0.08520176124594096 ; accuracy =  0.9545\n",
            "Epoch  18 ; train loss =  0.08767999582881263 ; accuracy =  0.957\n",
            "Epoch  19 ; train loss =  0.08467509289844505 ; accuracy =  0.9553333333333334\n",
            "Epoch  20 ; train loss =  0.07304979663425669 ; accuracy =  0.9591666666666666\n",
            "Epoch  21 ; train loss =  0.07013621367161008 ; accuracy =  0.9488333333333333\n",
            "Epoch  22 ; train loss =  0.06298855716133646 ; accuracy =  0.9518333333333333\n",
            "Epoch  23 ; train loss =  0.06151095637089262 ; accuracy =  0.9531666666666667\n",
            "Epoch  24 ; train loss =  0.058766283855191434 ; accuracy =  0.9561666666666667\n",
            "Epoch  25 ; train loss =  0.05498373373564755 ; accuracy =  0.9451666666666667\n",
            "Epoch  26 ; train loss =  0.05376382484975814 ; accuracy =  0.9535\n",
            "Epoch  27 ; train loss =  0.05711909053377409 ; accuracy =  0.9558333333333333\n",
            "Epoch  28 ; train loss =  0.05093049844528044 ; accuracy =  0.9533333333333334\n",
            "Epoch  29 ; train loss =  0.04752145560221834 ; accuracy =  0.9523333333333334\n",
            "Finished Training and save the model as `modelNN.pth`\n"
          ]
        }
      ]
    },
    {
      "cell_type": "markdown",
      "source": [
        "# Results"
      ],
      "metadata": {
        "id": "IZuwyP_js0aF"
      }
    },
    {
      "cell_type": "markdown",
      "source": [
        "## Loss"
      ],
      "metadata": {
        "id": "9OaixVNls24J"
      }
    },
    {
      "cell_type": "code",
      "source": [
        "\n",
        "import matplotlib.pyplot as plt\n",
        "import numpy as np\n",
        "plt.plot()\n",
        "plt.plot(range(len(loss_list)), loss_list)\n",
        "\n",
        "plt.xlabel(\"Epochs\")\n",
        "plt.ylabel(\"Loss\")\n",
        "plt.title(\"loss curve\")\n",
        "\n",
        "plt.show()"
      ],
      "metadata": {
        "colab": {
          "base_uri": "https://localhost:8080/",
          "height": 295
        },
        "id": "OrXBeLuZr7dh",
        "outputId": "75d48f19-745f-4ecb-b50f-4f0c66bb4933"
      },
      "execution_count": null,
      "outputs": [
        {
          "output_type": "display_data",
          "data": {
            "text/plain": [
              "<Figure size 432x288 with 1 Axes>"
            ],
            "image/png": "[encoded data removed]"
          },
          "metadata": {
            "needs_background": "light"
          }
        }
      ]
    },
    {
      "cell_type": "markdown",
      "source": [
        "## Accuracy"
      ],
      "metadata": {
        "id": "u-Y4_LO5s5Mk"
      }
    },
    {
      "cell_type": "code",
      "source": [
        "plt.plot()\n",
        "plt.plot(range(len(accuracy_list)), accuracy_list)\n",
        "\n",
        "plt.xlabel(\"Epochs\")\n",
        "plt.ylabel(\"Accuracy\")\n",
        "plt.title(\"accuracy curve\")\n",
        "\n",
        "plt.show()"
      ],
      "metadata": {
        "colab": {
          "base_uri": "https://localhost:8080/",
          "height": 295
        },
        "id": "ZLHCSVOxr-ay",
        "outputId": "5066578a-1cbe-4934-fee3-85f1298089b4"
      },
      "execution_count": null,
      "outputs": [
        {
          "output_type": "display_data",
          "data": {
            "text/plain": [
              "<Figure size 432x288 with 1 Axes>"
            ],
            "image/png": "[encoded data removed]"
          },
          "metadata": {
            "needs_background": "light"
          }
        }
      ]
    }
  ]
}